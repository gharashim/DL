{
  "cells": [
    {
      "cell_type": "markdown",
      "metadata": {
        "id": "view-in-github",
        "colab_type": "text"
      },
      "source": [
        "<a href=\"https://colab.research.google.com/github/gharashim/DL/blob/main/02_Machine_Learning_Basic_EX_10_SOL_Softmax_Blood_Pressure_Multi_Variable_TF.ipynb\" target=\"_parent\"><img src=\"https://colab.research.google.com/assets/colab-badge.svg\" alt=\"Open In Colab\"/></a>"
      ]
    },
    {
      "cell_type": "markdown",
      "metadata": {
        "id": "YFgG5LWSDCGQ"
      },
      "source": [
        "# Softmax Classification"
      ]
    },
    {
      "cell_type": "markdown",
      "metadata": {
        "id": "s5GcbJcLDEOJ"
      },
      "source": [
        ">### [예제 10: SOL] Multi Variable Softmax Classification(TF)"
      ]
    },
    {
      "cell_type": "markdown",
      "metadata": {
        "id": "CmXWmww_DN1h"
      },
      "source": [
        ">### Load modules"
      ]
    },
    {
      "cell_type": "code",
      "execution_count": null,
      "metadata": {
        "colab": {
          "base_uri": "https://localhost:8080/"
        },
        "id": "NQ6ONRPKCy-h",
        "outputId": "468a48dc-8295-411a-d452-25b6aaa8e170"
      },
      "outputs": [
        {
          "output_type": "stream",
          "name": "stdout",
          "text": [
            "NumPy Version :1.26.4\n",
            "TensorFlow Version :2.17.0\n",
            "Matplotlib Version :3.7.1\n"
          ]
        }
      ],
      "source": [
        "import numpy as np\n",
        "import tensorflow as tf\n",
        "import matplotlib.pyplot as plt\n",
        "\n",
        "if tf.__version__ >= '2.17.0':\n",
        "    from tf_keras import optimizers\n",
        "else:\n",
        "    from tensorflow.keras import optimizers\n",
        "\n",
        "print(\"NumPy Version :{}\".format(np.__version__))\n",
        "print(\"TensorFlow Version :{}\".format(tf.__version__))\n",
        "print(\"Matplotlib Version :{}\".format(plt.matplotlib.__version__))"
      ]
    },
    {
      "cell_type": "code",
      "execution_count": null,
      "metadata": {
        "id": "MK9xIhEWDdiq"
      },
      "outputs": [],
      "source": [
        "#Input(AGE) and Labels(BP)\n",
        "x_input = tf.constant([[25,22],[25,26],[25,30],[35,22],[35,26],[35,30],[45,22],[45,26],[45,30],[55,22],[55,26],[55,30],[65,22],[65,26],[65,30],[73,22],[73,26],[73,30]], dtype= tf.float32)\n",
        "labels = tf.constant([[1,0,0],[0,1,0],[0,0,1],[1,0,0],[0,1,0],[1,0,0],[1,0,0],[1,0,0],[0,1,0],[1,0,0],[0,1,0],[0,0,1],[0,1,0],[0,0,1],[0,0,1],[0,1,0],[0,0,1],[0,0,1]], dtype= tf.float32)\n",
        "\n",
        "# 나이와 BMI 가 입력되면, 혈압등급을 0 : 정상,  1: 주의,  2: 경고  등급으로 구분하는 코드를 구현하라.\n",
        "W = tf.Variable(tf.random.normal((2,3)), dtype=tf.float32)\n",
        "B = tf.Variable(tf.random.normal((3,)), dtype=tf.float32)"
      ]
    },
    {
      "cell_type": "code",
      "execution_count": null,
      "metadata": {
        "id": "ZmkUcxZovQD1"
      },
      "outputs": [],
      "source": [
        "x_input_org = x_input\n",
        "x_min, x_max = np.min(x_input, axis=0), np.max(x_input, axis=0)\n",
        "x_input = (x_input-x_min)/(x_max-x_min)"
      ]
    },
    {
      "cell_type": "code",
      "execution_count": null,
      "metadata": {
        "id": "GOajfgPgD2qE"
      },
      "outputs": [],
      "source": [
        "def logits(x):\n",
        "  return tf.matmul(x, W) + B\n",
        "\n",
        "def Hypothesis(x):\n",
        "  return tf.nn.softmax(logits(x))"
      ]
    },
    {
      "cell_type": "code",
      "execution_count": null,
      "metadata": {
        "id": "NHObKoBzEHyR"
      },
      "outputs": [],
      "source": [
        "def Cost():\n",
        "  return tf.reduce_mean(tf.nn.softmax_cross_entropy_with_logits(logits=logits(x_input), labels=labels))"
      ]
    },
    {
      "cell_type": "markdown",
      "metadata": {
        "id": "s3_SErpOG1rk"
      },
      "source": [
        "### 학습 (Training)"
      ]
    },
    {
      "cell_type": "code",
      "execution_count": null,
      "metadata": {
        "colab": {
          "base_uri": "https://localhost:8080/"
        },
        "id": "68vMDyJoFcD2",
        "outputId": "565f9a67-7f32-4baa-b7ee-5234007f49a2"
      },
      "outputs": [
        {
          "output_type": "stream",
          "name": "stdout",
          "text": [
            "[     0] cost =      1.354\n",
            "[  1500] cost =      0.746\n",
            "[  3000] cost =     0.7054\n",
            "[  4500] cost =     0.6905\n",
            "[  6000] cost =     0.6834\n",
            "[  7500] cost =     0.6795\n",
            "[  9000] cost =     0.6773\n",
            "[ 10500] cost =      0.676\n",
            "[ 12000] cost =     0.6751\n",
            "[ 13500] cost =     0.6745\n",
            "[ 15000] cost =     0.6742\n",
            "[ 16500] cost =     0.6739\n",
            "[ 18000] cost =     0.6738\n",
            "[ 19500] cost =     0.6736\n",
            "[ 21000] cost =     0.6736\n",
            "[ 22500] cost =     0.6735\n",
            "[ 24000] cost =     0.6735\n",
            "[ 25500] cost =     0.6734\n",
            "[ 27000] cost =     0.6734\n",
            "[ 28500] cost =     0.6734\n",
            "[ 30000] cost =     0.6734\n",
            "CPU times: user 4min 14s, sys: 5.67 s, total: 4min 20s\n",
            "Wall time: 4min 13s\n"
          ]
        }
      ],
      "source": [
        "%%time\n",
        "\n",
        "# Parameter Set\n",
        "epochs = 30000\n",
        "learning_rate = 0.05\n",
        "\n",
        "optimizer = optimizers.SGD(learning_rate=learning_rate)\n",
        "\n",
        "training_idx = np.arange(0, epochs+1, 1)\n",
        "cost_graph = np.zeros(epochs+1)\n",
        "\n",
        "for cnt in range(0, epochs+1):\n",
        "  cost_graph[cnt] = Cost()\n",
        "  if cnt % (epochs//20) == 0:\n",
        "    print(\"[{:>6}] cost = {:>10.4}\".format(cnt, cost_graph[cnt]))\n",
        "\n",
        "  optimizer.minimize(Cost,[W, B])"
      ]
    },
    {
      "cell_type": "markdown",
      "metadata": {
        "id": "VmGa4Bq-ZKMq"
      },
      "source": [
        ">### Hypothesis Test"
      ]
    },
    {
      "cell_type": "code",
      "execution_count": null,
      "metadata": {
        "colab": {
          "base_uri": "https://localhost:8080/"
        },
        "id": "X_UwcVCzK4KD",
        "outputId": "aff1c8b1-a251-49a2-de31-25826140a44f"
      },
      "outputs": [
        {
          "output_type": "stream",
          "name": "stdout",
          "text": [
            "[ Hypothesis test ]\n",
            "Age:25.0,BMI:22.0 [label:0]=>class:0: [8.90805662e-01 1.09078147e-01 1.16143055e-04]\n",
            "Age:25.0,BMI:26.0 [label:1]=>class:0: [0.7015343 0.2926972 0.0057685]\n",
            "Age:25.0,BMI:30.0 [label:2]=>class:1: [0.34011233 0.48351154 0.17637607]\n",
            "Age:35.0,BMI:22.0 [label:0]=>class:0: [8.1110096e-01 1.8831813e-01 5.8091979e-04]\n",
            "Age:35.0,BMI:26.0 [label:1]=>class:0: [0.544582   0.4308195  0.02459847]\n",
            "Age:35.0,BMI:30.0 [label:0]=>class:2: [0.15280576 0.41189507 0.43529916]\n",
            "Age:45.0,BMI:22.0 [label:0]=>class:0: [0.6924419  0.30483374 0.0027243 ]\n",
            "Age:45.0,BMI:26.0 [label:0]=>class:1: [0.3638826  0.5458279  0.09028942]\n",
            "Age:45.0,BMI:30.0 [label:1]=>class:2: [0.04595637 0.23488486 0.71915877]\n",
            "Age:55.0,BMI:22.0 [label:0]=>class:0: [0.53869593 0.44966155 0.01164251]\n",
            "Age:55.0,BMI:26.0 [label:1]=>class:1: [0.19204134 0.5462     0.26175871]\n",
            "Age:55.0,BMI:30.0 [label:2]=>class:2: [0.01034622 0.10026591 0.8893879 ]\n",
            "Age:65.0,BMI:22.0 [label:1]=>class:1: [0.37017238 0.5858798  0.04394788]\n",
            "Age:65.0,BMI:26.0 [label:2]=>class:2: [0.07204421 0.38852444 0.53943133]\n",
            "Age:65.0,BMI:30.0 [label:2]=>class:2: [0.00203421 0.0373792  0.9605866 ]\n",
            "Age:73.0,BMI:22.0 [label:1]=>class:1: [0.24363963 0.6433427  0.11301769]\n",
            "Age:73.0,BMI:26.0 [label:2]=>class:2: [0.02547618 0.22921528 0.7453086 ]\n",
            "Age:73.0,BMI:30.0 [label:2]=>class:2: [5.3285179e-04 1.6335430e-02 9.8313177e-01]\n"
          ]
        }
      ],
      "source": [
        "print(\"[ Hypothesis test ]\")\n",
        "H_x = Hypothesis(x_input)\n",
        "\n",
        "for x,h,l in zip(x_input_org, H_x, labels):\n",
        "  print(\"Age:{},BMI:{} [label:{}]=>class:{}: {}\".format(x[0],x[1],np.argmax(l), np.argmax(h.numpy()),h))"
      ]
    },
    {
      "cell_type": "code",
      "execution_count": null,
      "metadata": {
        "id": "c4-oh44fvQD2"
      },
      "outputs": [],
      "source": [
        "# predict\n",
        "def predict(x):\n",
        "  return Hypothesis((x-x_min)/(x_max-x_min))"
      ]
    },
    {
      "cell_type": "code",
      "execution_count": null,
      "metadata": {
        "colab": {
          "base_uri": "https://localhost:8080/"
        },
        "id": "36YrCKbqvQD2",
        "outputId": "6bfc9182-eb0e-4a23-b965-bbdcb8bf6237"
      },
      "outputs": [
        {
          "output_type": "stream",
          "name": "stdout",
          "text": [
            "\n",
            "[ Prediction by specific data ]\n",
            "Age : 50.0, BMI : 25.0 => Class: 1 [0.36675158 0.55756307 0.07568538]\n"
          ]
        }
      ],
      "source": [
        "x_test = tf.constant([[50.0, 25.0]], dtype= tf.float32)\n",
        "H_x = predict(x_test)\n",
        "print(\"\\n[ Prediction by specific data ]\")\n",
        "print(\"Age : {}, BMI : {} => Class: {}\".format(x_test[0,0],x_test[0,1],np.argmax(H_x[0])),H_x[0].numpy())"
      ]
    },
    {
      "cell_type": "markdown",
      "metadata": {
        "id": "eLvOaTCyHGhb"
      },
      "source": [
        ">### Plotting"
      ]
    },
    {
      "cell_type": "code",
      "execution_count": null,
      "metadata": {
        "colab": {
          "base_uri": "https://localhost:8080/",
          "height": 472
        },
        "id": "4ZEI94f8HHDu",
        "outputId": "810014e1-ad16-47dd-dd2f-0ec5496f5ca7"
      },
      "outputs": [
        {
          "output_type": "display_data",
          "data": {
            "text/plain": [
              "<Figure size 640x480 with 1 Axes>"
            ],
            "image/png": "[encoded data removed]"
          },
          "metadata": {}
        }
      ],
      "source": [
        "# Training 상황에 대한 그래프 출력\n",
        "# Training 회수 별 Cost 값\n",
        "plt.title(\"'Cost / Epochs' Graph\")\n",
        "plt.xlabel(\"Epochs\")\n",
        "plt.ylabel(\"Cost\")\n",
        "plt.plot(training_idx, cost_graph)\n",
        "plt.xlim(0, epochs)\n",
        "plt.grid(True)\n",
        "plt.semilogy()\n",
        "plt.show()"
      ]
    }
  ],
  "metadata": {
    "colab": {
      "provenance": [],
      "include_colab_link": true
    },
    "kernelspec": {
      "display_name": "Python 3",
      "name": "python3"
    },
    "language_info": {
      "codemirror_mode": {
        "name": "ipython",
        "version": 3
      },
      "file_extension": ".py",
      "mimetype": "text/x-python",
      "name": "python",
      "nbconvert_exporter": "python",
      "pygments_lexer": "ipython3",
      "version": "3.10.13"
    }
  },
  "nbformat": 4,
  "nbformat_minor": 0
}