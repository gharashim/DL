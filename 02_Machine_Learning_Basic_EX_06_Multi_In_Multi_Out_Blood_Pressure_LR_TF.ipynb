{
  "cells": [
    {
      "cell_type": "markdown",
      "metadata": {
        "id": "view-in-github",
        "colab_type": "text"
      },
      "source": [
        "<a href=\"https://colab.research.google.com/github/gharashim/DL/blob/main/02_Machine_Learning_Basic_EX_06_Multi_In_Multi_Out_Blood_Pressure_LR_TF.ipynb\" target=\"_parent\"><img src=\"https://colab.research.google.com/assets/colab-badge.svg\" alt=\"Open In Colab\"/></a>"
      ]
    },
    {
      "cell_type": "markdown",
      "metadata": {
        "id": "YFgG5LWSDCGQ"
      },
      "source": [
        "# Linear Regression"
      ]
    },
    {
      "cell_type": "markdown",
      "metadata": {
        "id": "s5GcbJcLDEOJ"
      },
      "source": [
        ">### [예제 6] Multi-Variable Multi-Output L.R.(TF)"
      ]
    },
    {
      "cell_type": "markdown",
      "metadata": {
        "id": "CmXWmww_DN1h"
      },
      "source": [
        ">### Load modules"
      ]
    },
    {
      "cell_type": "code",
      "execution_count": null,
      "metadata": {
        "colab": {
          "base_uri": "https://localhost:8080/"
        },
        "id": "NQ6ONRPKCy-h",
        "outputId": "5a9d215e-7d52-403c-d3f0-211b68852a9b"
      },
      "outputs": [
        {
          "output_type": "stream",
          "name": "stdout",
          "text": [
            "NumPy Version :1.26.4\n",
            "TensorFlow Version :2.17.0\n",
            "Matplotlib Version :3.7.1\n"
          ]
        }
      ],
      "source": [
        "import numpy as np\n",
        "import tensorflow as tf\n",
        "import matplotlib.pyplot as plt\n",
        "\n",
        "if tf.__version__ >= '2.17.0':\n",
        "    from tf_keras import optimizers\n",
        "else:\n",
        "    from tensorflow.keras import optimizers\n",
        "\n",
        "print(\"NumPy Version :{}\".format(np.__version__))\n",
        "print(\"TensorFlow Version :{}\".format(tf.__version__))\n",
        "print(\"Matplotlib Version :{}\".format(plt.matplotlib.__version__))"
      ]
    },
    {
      "cell_type": "markdown",
      "metadata": {
        "id": "-dg-R6_6Dfo_"
      },
      "source": [
        "> ### Input and Label"
      ]
    },
    {
      "cell_type": "code",
      "execution_count": null,
      "metadata": {
        "id": "MK9xIhEWDdiq"
      },
      "outputs": [],
      "source": [
        "#Input(AGE, BMI) and Labels(HIGH, LOW)\n",
        "x_input = tf.constant([[25,22],[25,26],[25,30],[35,22],[35,26],[35,30],[45,22],[45,26],[45,30],[55,22],[55,26],[55,30],[65,22],[65,26],[65,30],[73,22],[73,26],[73,30]], dtype= tf.float32)\n",
        "labels = tf.constant([[118,72],[125,80],[130,80],[118,76],[126,75],[123,79],[120,80],[124,85],[130,83],[122,78],[125,80],[130,81],[127,75],[130,79],[130,81],[125.5,80],[130,80],[138,82]], dtype= tf.float32)\n",
        "\n",
        "W = tf.Variable(tf.random.normal((2, 2)), dtype=tf.float32)\n",
        "B = tf.Variable(tf.random.normal((2,)), dtype=tf.float32)"
      ]
    },
    {
      "cell_type": "code",
      "execution_count": null,
      "metadata": {
        "id": "gGxvme5zu95t"
      },
      "outputs": [],
      "source": [
        "# Min Max Scaler\n",
        "x_input_org = x_input\n",
        "x_min, x_max = np.min(x_input, axis=0), np.max(x_input, axis=0)\n",
        "x_input = (x_input-x_min)/(x_max-x_min)"
      ]
    },
    {
      "cell_type": "code",
      "execution_count": null,
      "metadata": {
        "id": "GOajfgPgD2qE"
      },
      "outputs": [],
      "source": [
        "# Hypothesis\n",
        "def Hypothesis(x):\n",
        "  return tf.matmul(x, W) + B"
      ]
    },
    {
      "cell_type": "markdown",
      "metadata": {
        "id": "2DL7vAuaEQRN"
      },
      "source": [
        ">### Cost Function : Mean Squared Error (MSE)\n",
        ">### $\\sum_{i=1}^{n}(h(x_{i})-y_{i})^{2}$"
      ]
    },
    {
      "cell_type": "code",
      "execution_count": null,
      "metadata": {
        "id": "NHObKoBzEHyR"
      },
      "outputs": [],
      "source": [
        "def Cost():\n",
        "  return tf.reduce_mean(tf.square(Hypothesis(x_input)-labels))"
      ]
    },
    {
      "cell_type": "markdown",
      "metadata": {
        "id": "s3_SErpOG1rk"
      },
      "source": [
        "### 학습 (Training)"
      ]
    },
    {
      "cell_type": "code",
      "execution_count": null,
      "metadata": {
        "colab": {
          "base_uri": "https://localhost:8080/"
        },
        "id": "68vMDyJoFcD2",
        "outputId": "92e62771-464b-45be-c0b1-89905dded199"
      },
      "outputs": [
        {
          "output_type": "stream",
          "name": "stdout",
          "text": [
            "[     0] cost=1.085e+04, W = [[-0.7102  0.1571] [   2.52 -0.0738]], B = [ 0.8308 0.5177]\n",
            "[   125] cost=  91.6, W = [[  30.09   18.27] [  26.65   15.64]], B = [  95.36  60.66]\n",
            "[   250] cost= 33.64, W = [[  21.68   12.27] [   17.7   10.11]], B = [  105.1   67.1]\n",
            "[   375] cost= 14.88, W = [[  16.24   8.465] [   13.3    7.34]], B = [  110.5  70.76]\n",
            "[   500] cost= 8.602, W = [[  12.85   6.123] [  11.07   5.907]], B = [  113.7  72.87]\n",
            "[   625] cost=  6.47, W = [[  10.78   4.705] [  9.885    5.14]], B = [  115.5  74.09]\n",
            "[   750] cost= 5.741, W = [[  9.532   3.856] [  9.245   4.719]], B = [  116.5   74.8]\n",
            "[   875] cost= 5.491, W = [[   8.79   3.352] [  8.889   4.483]], B = [  117.2  75.21]\n",
            "[  1000] cost= 5.405, W = [[  8.351   3.053] [  8.689    4.35]], B = [  117.5  75.45]\n",
            "[  1125] cost= 5.375, W = [[  8.091   2.877] [  8.574   4.273]], B = [  117.7  75.59]\n",
            "[  1250] cost= 5.365, W = [[  7.938   2.774] [  8.508   4.228]], B = [  117.8  75.67]\n",
            "[  1375] cost= 5.362, W = [[  7.848   2.713] [   8.47   4.203]], B = [  117.9  75.72]\n",
            "[  1500] cost=  5.36, W = [[  7.795   2.677] [  8.448   4.188]], B = [  118.0  75.75]\n",
            "[  1625] cost=  5.36, W = [[  7.764   2.656] [  8.435   4.179]], B = [  118.0  75.77]\n",
            "[  1750] cost=  5.36, W = [[  7.745   2.643] [  8.427   4.174]], B = [  118.0  75.78]\n",
            "[  1875] cost=  5.36, W = [[  7.735   2.636] [  8.423   4.171]], B = [  118.0  75.78]\n",
            "[  2000] cost=  5.36, W = [[  7.728   2.632] [   8.42   4.169]], B = [  118.0  75.78]\n",
            "[  2125] cost=  5.36, W = [[  7.725   2.629] [  8.419   4.168]], B = [  118.0  75.79]\n",
            "[  2250] cost=  5.36, W = [[  7.722   2.628] [  8.418   4.168]], B = [  118.0  75.79]\n",
            "[  2375] cost=  5.36, W = [[  7.721   2.627] [  8.417   4.167]], B = [  118.0  75.79]\n",
            "[  2500] cost=  5.36, W = [[   7.72   2.627] [  8.417   4.167]], B = [  118.0  75.79]\n",
            "CPU times: user 16.1 s, sys: 179 ms, total: 16.3 s\n",
            "Wall time: 17.4 s\n"
          ]
        }
      ],
      "source": [
        "%%time\n",
        "# Parameter Set\n",
        "epochs = 2500\n",
        "learning_rate = 0.05\n",
        "optimizer = optimizers.SGD(learning_rate=learning_rate)\n",
        "\n",
        "training_idx = np.arange(0, epochs+1, 1)\n",
        "cost_graph = np.zeros(epochs+1)\n",
        "\n",
        "for cnt in range(0, epochs+1):\n",
        "  cost_graph[cnt] = Cost()\n",
        "  if cnt % (epochs//20) == 0:\n",
        "      print(\"[{:>6}] cost={:>6.4}, W = [[{:>7.4} {:>7.4}] [{:>7.4} {:>7.4}]], B = [{:>7.4}{:>7.4}]\".format(cnt, cost_graph[cnt], W[0,0], W[0,1], W[1,0],W[1,1], B[0],B[1]))\n",
        "\n",
        "  optimizer.minimize(Cost,[W, B])"
      ]
    },
    {
      "cell_type": "markdown",
      "metadata": {
        "id": "VmGa4Bq-ZKMq"
      },
      "source": [
        ">### Hypothesis Test"
      ]
    },
    {
      "cell_type": "code",
      "execution_count": null,
      "metadata": {
        "colab": {
          "base_uri": "https://localhost:8080/"
        },
        "id": "X_UwcVCzK4KD",
        "outputId": "435f7e61-cbe2-4c86-a44d-205b8fa082bc"
      },
      "outputs": [
        {
          "output_type": "stream",
          "name": "stdout",
          "text": [
            "[ Hypothesis test ]\n",
            "Age:25.0, BMI:22.0=>BP:  118.0,  75.79 [label => [118.  72.]]\n",
            "Age:25.0, BMI:26.0=>BP:  122.2,  77.87 [label => [125.  80.]]\n",
            "Age:25.0, BMI:30.0=>BP:  126.4,  79.96 [label => [130.  80.]]\n",
            "Age:35.0, BMI:22.0=>BP:  119.6,  76.34 [label => [118.  76.]]\n",
            "Age:35.0, BMI:26.0=>BP:  123.8,  78.42 [label => [126.  75.]]\n",
            "Age:35.0, BMI:30.0=>BP:  128.0,   80.5 [label => [123.  79.]]\n",
            "Age:45.0, BMI:22.0=>BP:  121.2,  76.88 [label => [120.  80.]]\n",
            "Age:45.0, BMI:26.0=>BP:  125.4,  78.97 [label => [124.  85.]]\n",
            "Age:45.0, BMI:30.0=>BP:  129.7,  81.05 [label => [130.  83.]]\n",
            "Age:55.0, BMI:22.0=>BP:  122.8,  77.43 [label => [122.  78.]]\n",
            "Age:55.0, BMI:26.0=>BP:  127.1,  79.51 [label => [125.  80.]]\n",
            "Age:55.0, BMI:30.0=>BP:  131.3,   81.6 [label => [130.  81.]]\n",
            "Age:65.0, BMI:22.0=>BP:  124.5,  77.98 [label => [127.  75.]]\n",
            "Age:65.0, BMI:26.0=>BP:  128.7,  80.06 [label => [130.  79.]]\n",
            "Age:65.0, BMI:30.0=>BP:  132.9,  82.14 [label => [130.  81.]]\n",
            "Age:73.0, BMI:22.0=>BP:  125.7,  78.42 [label => [125.5  80. ]]\n",
            "Age:73.0, BMI:26.0=>BP:  129.9,   80.5 [label => [130.  80.]]\n",
            "Age:73.0, BMI:30.0=>BP:  134.2,  82.58 [label => [138.  82.]]\n"
          ]
        }
      ],
      "source": [
        "print(\"[ Hypothesis test ]\")\n",
        "\n",
        "H_x = Hypothesis(x_input)\n",
        "for x,h,l in zip(x_input_org, H_x, labels):\n",
        "  print(\"Age:{}, BMI:{}=>BP:{:>7.4},{:>7.4} [label => {}]\".format(x[0],x[1],h[0], h[1],l))"
      ]
    },
    {
      "cell_type": "code",
      "execution_count": null,
      "metadata": {
        "id": "fhXv4SwQu95u"
      },
      "outputs": [],
      "source": [
        "# predict\n",
        "def predict(x):\n",
        "  return Hypothesis((x-x_min)/(x_max-x_min))"
      ]
    },
    {
      "cell_type": "code",
      "execution_count": null,
      "metadata": {
        "colab": {
          "base_uri": "https://localhost:8080/"
        },
        "id": "aFtgnopiu95u",
        "outputId": "c13928ac-1648-45a3-d0ea-21a3d646db04"
      },
      "outputs": [
        {
          "output_type": "stream",
          "name": "stdout",
          "text": [
            "\n",
            "[ Prediction by specific data ]\n",
            "Age : 50.0, BMI : 25.0 = > BP :   125.2,   78.72\n"
          ]
        }
      ],
      "source": [
        "# predict\n",
        "print(\"\\n[ Prediction by specific data ]\")\n",
        "x_test = tf.constant([[50.0, 25.0]], dtype= tf.float32)\n",
        "H_x = predict(x_test)\n",
        "print(\"Age : {}, BMI : {} = > BP : {:>7.4}, {:>7.4}\".format(x_test[0,0],x_test[0,1],H_x[0,0],H_x[0,1]))"
      ]
    },
    {
      "cell_type": "markdown",
      "metadata": {
        "id": "eLvOaTCyHGhb"
      },
      "source": [
        ">### Plotting"
      ]
    },
    {
      "cell_type": "code",
      "execution_count": null,
      "metadata": {
        "colab": {
          "base_uri": "https://localhost:8080/",
          "height": 472
        },
        "id": "4ZEI94f8HHDu",
        "outputId": "d140a63f-4e31-44be-f2f3-3d7dfc789f8b"
      },
      "outputs": [
        {
          "output_type": "display_data",
          "data": {
            "text/plain": [
              "<Figure size 640x480 with 1 Axes>"
            ],
            "image/png": "[encoded data removed]"
          },
          "metadata": {}
        }
      ],
      "source": [
        "# Training 상황에 대한 그래프 출력\n",
        "# Training 회수 별 Cost 값\n",
        "plt.title(\"'Cost / Epochs' Graph\")\n",
        "plt.xlabel(\"Epochs\")\n",
        "plt.ylabel(\"Cost\")\n",
        "plt.plot(training_idx, cost_graph)\n",
        "plt.xlim(0, epochs)\n",
        "plt.grid(True)\n",
        "plt.semilogy()\n",
        "plt.show()"
      ]
    }
  ],
  "metadata": {
    "colab": {
      "provenance": [],
      "include_colab_link": true
    },
    "kernelspec": {
      "display_name": "Python 3",
      "name": "python3"
    },
    "language_info": {
      "codemirror_mode": {
        "name": "ipython",
        "version": 3
      },
      "file_extension": ".py",
      "mimetype": "text/x-python",
      "name": "python",
      "nbconvert_exporter": "python",
      "pygments_lexer": "ipython3",
      "version": "3.10.13"
    }
  },
  "nbformat": 4,
  "nbformat_minor": 0
}