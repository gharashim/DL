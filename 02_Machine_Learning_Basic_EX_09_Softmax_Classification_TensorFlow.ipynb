{
  "cells": [
    {
      "cell_type": "markdown",
      "metadata": {
        "id": "view-in-github",
        "colab_type": "text"
      },
      "source": [
        "<a href=\"https://colab.research.google.com/github/gharashim/DL/blob/main/02_Machine_Learning_Basic_EX_09_Softmax_Classification_TensorFlow.ipynb\" target=\"_parent\"><img src=\"https://colab.research.google.com/assets/colab-badge.svg\" alt=\"Open In Colab\"/></a>"
      ]
    },
    {
      "cell_type": "markdown",
      "metadata": {
        "id": "ERQax80Nl2fY"
      },
      "source": [
        "# Softmax Classification"
      ]
    },
    {
      "cell_type": "markdown",
      "metadata": {
        "id": "gvu8nWycl9Qp"
      },
      "source": [
        ">### [예제 9] Softmax Classification (TensorFlow)"
      ]
    },
    {
      "cell_type": "markdown",
      "metadata": {
        "id": "Ba-LxKfLmGVu"
      },
      "source": [
        ">### Load modules"
      ]
    },
    {
      "cell_type": "code",
      "execution_count": null,
      "metadata": {
        "colab": {
          "base_uri": "https://localhost:8080/"
        },
        "id": "gXxAYyqxlNxp",
        "outputId": "cb7f069a-c506-4850-c14b-50db990212a1"
      },
      "outputs": [
        {
          "output_type": "stream",
          "name": "stdout",
          "text": [
            "NumPy Version :1.26.4\n",
            "TensorFlow Version :2.17.0\n",
            "Matplotlib Version :3.7.1\n"
          ]
        }
      ],
      "source": [
        "import numpy as np\n",
        "import tensorflow as tf\n",
        "import matplotlib.pyplot as plt\n",
        "\n",
        "if tf.__version__ >= '2.17.0':\n",
        "    from tf_keras import optimizers\n",
        "else:\n",
        "    from tensorflow.keras import optimizers\n",
        "\n",
        "print(\"NumPy Version :{}\".format(np.__version__))\n",
        "print(\"TensorFlow Version :{}\".format(tf.__version__))\n",
        "print(\"Matplotlib Version :{}\".format(plt.matplotlib.__version__))"
      ]
    },
    {
      "cell_type": "markdown",
      "metadata": {
        "id": "9tdKm3VimauR"
      },
      "source": [
        "> ### Input and Label"
      ]
    },
    {
      "cell_type": "code",
      "execution_count": null,
      "metadata": {
        "id": "XMhaNhF0mIXK"
      },
      "outputs": [],
      "source": [
        "x_input = tf.constant([[1, 1], [2, 2.5], [2.5, 1.3], [4.3, 9.5], [5.5, 7.0], [6, 8.2], [7, 5], [8, 6], [9, 4.5]],dtype=tf.float32)\n",
        "labels = tf.constant([[1, 0, 0], [1, 0, 0], [1, 0, 0], [0, 1, 0], [0, 1, 0], [0, 1, 0], [0, 0, 1], [0, 0, 1], [0, 0, 1]],dtype=tf.float32)\n",
        "\n",
        "n_var, n_class = 2, 3\n",
        "W = tf.Variable(tf.random.normal((n_var, n_class),dtype=tf.float32))\n",
        "B = tf.Variable(tf.random.normal((n_class,),dtype=tf.float32))"
      ]
    },
    {
      "cell_type": "markdown",
      "metadata": {
        "id": "M7v1V11kmrRz"
      },
      "source": [
        ">### Activation Function : Softmax Function\n",
        ">$S(y_{i}) = \\frac{e^{y_{i}}}{\\sum_{j=0}^{m-1}e^{y_{j}}}$\n",
        ">## Hypothesis\n",
        ">## $H(X) = S(XW+B)$"
      ]
    },
    {
      "cell_type": "code",
      "execution_count": null,
      "metadata": {
        "id": "9gk1hqtjmhyb"
      },
      "outputs": [],
      "source": [
        "def logits(x):\n",
        "  return tf.matmul(x, W) + B\n",
        "\n",
        "def Hypothesis(x):\n",
        "  return tf.nn.softmax(logits(x))"
      ]
    },
    {
      "cell_type": "markdown",
      "metadata": {
        "id": "seBAAuk9nHMR"
      },
      "source": [
        ">## Cost Function : Cross Entropy Error\n",
        ">## $cost(W,b) = -\\sum_{i=1}^{m}p_{i}\\log_{2}q_{i}$"
      ]
    },
    {
      "cell_type": "code",
      "execution_count": null,
      "metadata": {
        "id": "hHC4LL4unD6A"
      },
      "outputs": [],
      "source": [
        "def Cost():\n",
        "  logit_value = logits(x_input)\n",
        "  return tf.reduce_mean(tf.nn.softmax_cross_entropy_with_logits(logits=logit_value, labels=labels))"
      ]
    },
    {
      "cell_type": "markdown",
      "metadata": {
        "id": "7dhfsRZQnm-C"
      },
      "source": [
        "### 학습 (Training)"
      ]
    },
    {
      "cell_type": "code",
      "execution_count": null,
      "metadata": {
        "colab": {
          "base_uri": "https://localhost:8080/"
        },
        "id": "i-3I0oV_nnYc",
        "outputId": "cfeb499f-e015-4697-e956-ece9291cf315"
      },
      "outputs": [
        {
          "output_type": "stream",
          "name": "stdout",
          "text": [
            "[    0] cost =      7.612\n",
            "[ 2500] cost =      0.134\n",
            "[ 5000] cost =    0.06409\n",
            "[ 7500] cost =    0.04198\n",
            "[10000] cost =    0.03125\n",
            "[12500] cost =    0.02492\n",
            "[15000] cost =    0.02074\n",
            "[17500] cost =    0.01777\n",
            "[20000] cost =    0.01556\n",
            "[22500] cost =    0.01384\n",
            "[25000] cost =    0.01247\n",
            "[27500] cost =    0.01135\n",
            "[30000] cost =    0.01041\n",
            "[32500] cost =   0.009622\n",
            "[35000] cost =   0.008945\n",
            "[37500] cost =   0.008358\n",
            "[40000] cost =   0.007845\n",
            "[42500] cost =   0.007391\n",
            "[45000] cost =   0.006988\n",
            "[47500] cost =   0.006627\n",
            "[50000] cost =   0.006302\n",
            "CPU times: user 8min 26s, sys: 1.44 s, total: 8min 28s\n",
            "Wall time: 8min 45s\n"
          ]
        }
      ],
      "source": [
        "%%time\n",
        "\n",
        "epochs = 50000\n",
        "learning_rate = 0.01\n",
        "optimizer = optimizers.SGD(learning_rate=learning_rate)\n",
        "\n",
        "training_idx = np.arange(0, epochs+1, 1)\n",
        "cost_graph = np.zeros(epochs+1)\n",
        "\n",
        "# 학습 (Training)\n",
        "for cnt in range(0, epochs+1):\n",
        "  cost_graph[cnt] = Cost()\n",
        "  if cnt % (epochs//20) == 0:\n",
        "    print(\"[{:>5}] cost = {:>10.4}\".format(cnt, cost_graph[cnt]))\n",
        "\n",
        "  optimizer.minimize(Cost, [W, B])"
      ]
    },
    {
      "cell_type": "code",
      "execution_count": null,
      "metadata": {
        "colab": {
          "base_uri": "https://localhost:8080/"
        },
        "id": "VOY47lIe2J0I",
        "outputId": "f58a980b-1a03-452c-926c-7d1c3a48771f"
      },
      "outputs": [
        {
          "output_type": "stream",
          "name": "stdout",
          "text": [
            "[0 0 0 1 1 1 2 2 2]\n",
            "[3.5 1. ] => Group 0: [8.0611122e-01 3.0325176e-05 1.9385836e-01]\n",
            "[5. 8.] => Group 1: [1.17349526e-04 9.99864936e-01 1.76208123e-05]\n",
            "[9. 7.] => Group 2: [1.7198334e-04 8.3579996e-04 9.9899226e-01]\n",
            "[5. 5.] => Group 1: [0.33334354 0.36296389 0.30369255]\n"
          ]
        }
      ],
      "source": [
        "print(np.argmax(Hypothesis(x_input),axis=1))\n",
        "\n",
        "x_test = tf.constant([[3.5, 1.0], [5.0, 8.0], [9.0, 7.0], [5.0, 5.0]],dtype=tf.float32)\n",
        "\n",
        "H_x = Hypothesis(x_test)\n",
        "for i in range(x_test.shape[0]):\n",
        "  print(\"{} => Group {}: {}\".format(x_test[i], np.argmax(H_x[i]), H_x[i]))"
      ]
    },
    {
      "cell_type": "markdown",
      "metadata": {
        "id": "jC4cFXOmnrGO"
      },
      "source": [
        ">### Plotting"
      ]
    },
    {
      "cell_type": "code",
      "execution_count": null,
      "metadata": {
        "colab": {
          "base_uri": "https://localhost:8080/",
          "height": 472
        },
        "id": "gw6dWbzJnrXy",
        "outputId": "04c35c2d-aa44-46d3-bf08-a78cbc9843f4"
      },
      "outputs": [
        {
          "output_type": "display_data",
          "data": {
            "text/plain": [
              "<Figure size 640x480 with 1 Axes>"
            ],
            "image/png": "[encoded data removed]"
          },
          "metadata": {}
        }
      ],
      "source": [
        "# Training 상황에 대한 그래프 출력\n",
        "# Training 회수 별 Cost 값\n",
        "plt.title(\"'Cost / Epochs' Graph\")\n",
        "plt.xlabel(\"Epochs\")\n",
        "plt.ylabel(\"Cost\")\n",
        "plt.plot(training_idx, cost_graph)\n",
        "plt.xlim(0, epochs)\n",
        "plt.grid(True)\n",
        "plt.semilogy()\n",
        "plt.show()"
      ]
    }
  ],
  "metadata": {
    "colab": {
      "provenance": [],
      "include_colab_link": true
    },
    "kernelspec": {
      "display_name": "Python 3",
      "name": "python3"
    },
    "language_info": {
      "codemirror_mode": {
        "name": "ipython",
        "version": 3
      },
      "file_extension": ".py",
      "mimetype": "text/x-python",
      "name": "python",
      "nbconvert_exporter": "python",
      "pygments_lexer": "ipython3",
      "version": "3.10.13"
    }
  },
  "nbformat": 4,
  "nbformat_minor": 0
}