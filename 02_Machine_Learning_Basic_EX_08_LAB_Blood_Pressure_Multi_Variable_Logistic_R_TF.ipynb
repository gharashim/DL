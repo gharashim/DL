{
  "cells": [
    {
      "cell_type": "markdown",
      "metadata": {
        "id": "view-in-github",
        "colab_type": "text"
      },
      "source": [
        "<a href=\"https://colab.research.google.com/github/gharashim/DL/blob/main/02_Machine_Learning_Basic_EX_08_LAB_Blood_Pressure_Multi_Variable_Logistic_R_TF.ipynb\" target=\"_parent\"><img src=\"https://colab.research.google.com/assets/colab-badge.svg\" alt=\"Open In Colab\"/></a>"
      ]
    },
    {
      "cell_type": "markdown",
      "metadata": {
        "id": "YFgG5LWSDCGQ"
      },
      "source": [
        "# Logistic Regression"
      ]
    },
    {
      "cell_type": "markdown",
      "metadata": {
        "id": "s5GcbJcLDEOJ"
      },
      "source": [
        ">### [예제 8: LAB] Blood Pressure Logistic Regression (TF)"
      ]
    },
    {
      "cell_type": "markdown",
      "metadata": {
        "id": "CmXWmww_DN1h"
      },
      "source": [
        ">### Load modules"
      ]
    },
    {
      "cell_type": "code",
      "execution_count": null,
      "metadata": {
        "id": "NQ6ONRPKCy-h"
      },
      "outputs": [],
      "source": [
        "import numpy as np\n",
        "import tensorflow as tf\n",
        "import matplotlib.pyplot as plt\n",
        "\n",
        "if tf.__version__ >= '2.17.0':\n",
        "    from tf_keras import optimizers\n",
        "else:\n",
        "    from tensorflow.keras import optimizers\n",
        "\n",
        "print(\"NumPy Version :{}\".format(np.__version__))\n",
        "print(\"TensorFlow Version :{}\".format(tf.__version__))\n",
        "print(\"Matplotlib Version :{}\".format(plt.matplotlib.__version__))"
      ]
    },
    {
      "cell_type": "markdown",
      "metadata": {
        "id": "-dg-R6_6Dfo_"
      },
      "source": [
        "> ### Input and Label"
      ]
    },
    {
      "cell_type": "code",
      "execution_count": null,
      "metadata": {
        "id": "MK9xIhEWDdiq"
      },
      "outputs": [],
      "source": [
        "#Input(AGE) and Labels(BP)\n",
        "x_input = tf.constant([[25,22],[25,26],[25,30],[35,22],[35,26],[35,30],[45,22],[45,26],[45,30],[55,22],[55,26],[55,30],[65,22],[65,26],[65,30],[73,22],[73,26],[73,30]], dtype= tf.float32)\n",
        "labels = tf.constant([[0],[0],[1],[0],[1],[0],[0],[0],[1],[0],[0],[1],[1],[1],[1],[0],[1],[1]], dtype= tf.float32)\n",
        "\n",
        "W = tf.Variable(tf.random.normal((2, 1)), dtype=tf.float32)\n",
        "B = tf.Variable(tf.random.normal((1,)), dtype=tf.float32)"
      ]
    },
    {
      "cell_type": "code",
      "execution_count": null,
      "metadata": {
        "id": "G5VbzfJQI8M8"
      },
      "outputs": [],
      "source": [
        "# Min Max Scaler\n",
        "x_input_org = x_input\n",
        "x_min, x_max = np.min(x_input, axis=0), np.max(x_input, axis=0)\n",
        "x_input = (x_input-x_min)/(x_max-x_min)"
      ]
    },
    {
      "cell_type": "markdown",
      "metadata": {
        "id": "r3ltXxjyD7l2"
      },
      "source": [
        ">### Activation Function : Sigmoid Function\n",
        ">$\\sigma(x) = \\frac{1}{1+e^{-x}}$\n",
        ">### Hypothesis : Logistic Equation\n",
        ">### $H(x) = \\sigma(XW + b$)"
      ]
    },
    {
      "cell_type": "code",
      "execution_count": null,
      "metadata": {
        "id": "GOajfgPgD2qE"
      },
      "outputs": [],
      "source": [
        "# Hypothesis\n",
        "def Hypothesis(x):\n"
      ]
    },
    {
      "cell_type": "markdown",
      "metadata": {
        "id": "2DL7vAuaEQRN"
      },
      "source": [
        ">### Cost Function : Cross Entropy Error\n",
        ">### $cost(W,b) = \\frac{1}{m}\\sum_{i=1}^{m}t\\log{H(x_{i}})+(1-t)\\log{(1-H(x_{i}}))$"
      ]
    },
    {
      "cell_type": "code",
      "execution_count": null,
      "metadata": {
        "id": "NHObKoBzEHyR"
      },
      "outputs": [],
      "source": [
        "def Cost():\n"
      ]
    },
    {
      "cell_type": "markdown",
      "metadata": {
        "id": "s3_SErpOG1rk"
      },
      "source": [
        "### 학습 (Training)"
      ]
    },
    {
      "cell_type": "code",
      "execution_count": null,
      "metadata": {
        "id": "68vMDyJoFcD2"
      },
      "outputs": [],
      "source": [
        "%%time\n",
        "# Parameter Set\n",
        "epochs = 10000\n",
        "learning_rate = 0.1\n",
        "\n",
        "\n",
        "\n",
        "\n",
        "\n",
        "\n",
        "\n",
        "\n",
        "\n"
      ]
    },
    {
      "cell_type": "markdown",
      "metadata": {
        "id": "VmGa4Bq-ZKMq"
      },
      "source": [
        ">### Hypothesis Test"
      ]
    },
    {
      "cell_type": "code",
      "execution_count": null,
      "metadata": {
        "id": "X_UwcVCzK4KD"
      },
      "outputs": [],
      "source": [
        "print(\"[ Hypothesis test ]\")\n",
        "H_x = Hypothesis(x_input)\n",
        "for x,h,l in zip(x_input_org, H_x, labels):\n",
        "  print(\"Age : {}, BMI : {:>7.4} => Result : {:>7.4} [label => {}]\".format(x[0],x[1],h[0],l))"
      ]
    },
    {
      "cell_type": "code",
      "execution_count": null,
      "metadata": {
        "id": "9q5Fse4JI8M-"
      },
      "outputs": [],
      "source": [
        "# predict\n",
        "def predict(x):\n",
        "  return Hypothesis((x-x_min)/(x_max-x_min))"
      ]
    },
    {
      "cell_type": "code",
      "execution_count": null,
      "metadata": {
        "id": "E4oWrQpWI8M_"
      },
      "outputs": [],
      "source": [
        "# predict\n",
        "print(\"\\n[ Prediction by specific data ]\")\n",
        "x_test = tf.constant([[50.0, 25.0]], dtype= tf.float32)\n",
        "H_x = predict(x_test)\n",
        "print(\"Age : {}, BMI : {} => Result : {:>7.4}\".format(x_test[0,0],x_test[0,1],H_x[0,0]))"
      ]
    },
    {
      "cell_type": "markdown",
      "metadata": {
        "id": "eLvOaTCyHGhb"
      },
      "source": [
        ">### Plotting"
      ]
    },
    {
      "cell_type": "code",
      "execution_count": null,
      "metadata": {
        "id": "4ZEI94f8HHDu"
      },
      "outputs": [],
      "source": [
        "# Training 상황에 대한 그래프 출력\n",
        "# Training 회수 별 Cost 값\n",
        "plt.title(\"'Cost / Epochs' Graph\")\n",
        "plt.xlabel(\"Epochs\")\n",
        "plt.ylabel(\"Cost\")\n",
        "plt.plot(training_idx, cost_graph)\n",
        "plt.xlim(0, epochs)\n",
        "plt.grid(True)\n",
        "plt.semilogy()\n",
        "plt.show()"
      ]
    }
  ],
  "metadata": {
    "colab": {
      "provenance": [],
      "include_colab_link": true
    },
    "kernelspec": {
      "display_name": "Python 3",
      "name": "python3"
    },
    "language_info": {
      "codemirror_mode": {
        "name": "ipython",
        "version": 3
      },
      "file_extension": ".py",
      "mimetype": "text/x-python",
      "name": "python",
      "nbconvert_exporter": "python",
      "pygments_lexer": "ipython3",
      "version": "3.10.13"
    }
  },
  "nbformat": 4,
  "nbformat_minor": 0
}