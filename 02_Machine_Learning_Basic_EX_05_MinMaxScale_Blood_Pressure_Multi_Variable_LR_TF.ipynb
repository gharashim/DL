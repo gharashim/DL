{
  "cells": [
    {
      "cell_type": "markdown",
      "metadata": {
        "id": "view-in-github",
        "colab_type": "text"
      },
      "source": [
        "<a href=\"https://colab.research.google.com/github/gharashim/DL/blob/main/02_Machine_Learning_Basic_EX_05_MinMaxScale_Blood_Pressure_Multi_Variable_LR_TF.ipynb\" target=\"_parent\"><img src=\"https://colab.research.google.com/assets/colab-badge.svg\" alt=\"Open In Colab\"/></a>"
      ]
    },
    {
      "cell_type": "markdown",
      "metadata": {
        "id": "YFgG5LWSDCGQ"
      },
      "source": [
        "# Linear Regression"
      ]
    },
    {
      "cell_type": "markdown",
      "metadata": {
        "id": "s5GcbJcLDEOJ"
      },
      "source": [
        ">### [예제 5] Multi Variable Linear Regression (TensorFlow)"
      ]
    },
    {
      "cell_type": "markdown",
      "metadata": {
        "id": "CmXWmww_DN1h"
      },
      "source": [
        ">### Load modules"
      ]
    },
    {
      "cell_type": "code",
      "execution_count": null,
      "metadata": {
        "colab": {
          "base_uri": "https://localhost:8080/"
        },
        "id": "NQ6ONRPKCy-h",
        "outputId": "b9bdf787-22f3-4143-c1db-8e6bf4dd47d2"
      },
      "outputs": [
        {
          "output_type": "stream",
          "name": "stdout",
          "text": [
            "NumPy Version :1.26.4\n",
            "TensorFlow Version :2.17.0\n",
            "Matplotlib Version :3.7.1\n"
          ]
        }
      ],
      "source": [
        "import numpy as np\n",
        "import tensorflow as tf\n",
        "import matplotlib.pyplot as plt\n",
        "\n",
        "if tf.__version__ >= '2.17.0':\n",
        "    from tf_keras import optimizers\n",
        "else:\n",
        "    from tensorflow.keras import optimizers\n",
        "\n",
        "print(\"NumPy Version :{}\".format(np.__version__))\n",
        "print(\"TensorFlow Version :{}\".format(tf.__version__))\n",
        "print(\"Matplotlib Version :{}\".format(plt.matplotlib.__version__))"
      ]
    },
    {
      "cell_type": "markdown",
      "metadata": {
        "id": "-dg-R6_6Dfo_"
      },
      "source": [
        "> ### Input and Label"
      ]
    },
    {
      "cell_type": "code",
      "execution_count": null,
      "metadata": {
        "id": "MK9xIhEWDdiq"
      },
      "outputs": [],
      "source": [
        "#Input(AGE) and Labels(BP)\n",
        "x_input = tf.constant([[25,22],[25,26],[25,30],[35,22],[35,26],[35,30],[45,22],[45,26],[45,30],[55,22],[55,26],[55,30],[65,22],[65,26],[65,30],[73,22],[73,26],[73,30]], dtype= tf.float32)\n",
        "labels = tf.constant([[118],[125],[130],[118],[126],[123],[120],[124],[130],[122],[125],[130],[127],[130],[130],[125.5],[130],[138]], dtype= tf.float32)\n",
        "\n",
        "W = tf.Variable(tf.random.normal((2, 1)), dtype=tf.float32)\n",
        "B = tf.Variable(tf.random.normal(()), dtype=tf.float32)"
      ]
    },
    {
      "cell_type": "code",
      "execution_count": null,
      "metadata": {
        "id": "ykLjLluSu7bI"
      },
      "outputs": [],
      "source": [
        "# Min Max Scaler\n",
        "x_input_org = x_input # 나중에 원본데이터 확인을 위해 백업\n",
        "x_min, x_max = np.min(x_input, axis=0), np.max(x_input, axis=0)\n",
        "x_input = (x_input-x_min)/(x_max-x_min)"
      ]
    },
    {
      "cell_type": "markdown",
      "metadata": {
        "id": "r3ltXxjyD7l2"
      },
      "source": [
        ">### Hypothesis : Linear Equation (Multi-Variable)\n",
        ">### $X = \\begin{bmatrix} x_{11} & x_{12} \\\\ x_{21} & x_{22} \\\\ x_{31} & x_{32} \\\\ \\end{bmatrix}$\n",
        ">### $W = \\begin{bmatrix} w_{1} \\\\ w_{2} \\\\\\end{bmatrix}$\n",
        ">### $H(x) = XW + b$"
      ]
    },
    {
      "cell_type": "code",
      "execution_count": null,
      "metadata": {
        "id": "GOajfgPgD2qE"
      },
      "outputs": [],
      "source": [
        "# Hypothesis\n",
        "def Hypothesis(x):\n",
        "  return tf.matmul(x, W) + B"
      ]
    },
    {
      "cell_type": "markdown",
      "metadata": {
        "id": "2DL7vAuaEQRN"
      },
      "source": [
        ">### Cost Function : Mean Squared Error (MSE)\n",
        ">### $\\sum_{i=1}^{n}(h(x_{i})-y_{i})^{2}$"
      ]
    },
    {
      "cell_type": "code",
      "execution_count": null,
      "metadata": {
        "id": "NHObKoBzEHyR"
      },
      "outputs": [],
      "source": [
        "def Cost():\n",
        "  return tf.reduce_mean(tf.square(Hypothesis(x_input)-labels))"
      ]
    },
    {
      "cell_type": "markdown",
      "metadata": {
        "id": "s3_SErpOG1rk"
      },
      "source": [
        "### 학습 (Training)"
      ]
    },
    {
      "cell_type": "code",
      "execution_count": null,
      "metadata": {
        "colab": {
          "base_uri": "https://localhost:8080/"
        },
        "id": "68vMDyJoFcD2",
        "outputId": "9c0852a9-00a8-44ff-916f-8521e594eb62"
      },
      "outputs": [
        {
          "output_type": "stream",
          "name": "stdout",
          "text": [
            "[     0] cost =  1.579e+04, W = [ -0.4857    1.05 ], B =  0.3624\n",
            "[   250] cost =      153.9, W = [    32.5   28.89 ], B =   92.73\n",
            "[   500] cost =      65.73, W = [   24.79   20.31 ], B =   101.9\n",
            "[   750] cost =      30.39, W = [   19.28   15.47 ], B =   107.6\n",
            "[  1000] cost =      15.83, W = [   15.47   12.69 ], B =   111.3\n",
            "[  1250] cost =      9.737, W = [   12.87   11.05 ], B =   113.7\n",
            "[  1500] cost =      7.164, W = [   11.13   10.06 ], B =   115.2\n",
            "[  1750] cost =      6.073, W = [   9.966   9.455 ], B =   116.2\n",
            "[  2000] cost =      5.609, W = [   9.196   9.078 ], B =   116.8\n",
            "[  2250] cost =      5.412, W = [   8.688   8.841 ], B =   117.2\n",
            "[  2500] cost =      5.327, W = [   8.354    8.69 ], B =   117.5\n",
            "[  2750] cost =      5.292, W = [   8.135   8.593 ], B =   117.7\n",
            "[  3000] cost =      5.276, W = [   7.991   8.531 ], B =   117.8\n",
            "[  3250] cost =       5.27, W = [   7.897   8.491 ], B =   117.9\n",
            "[  3500] cost =      5.267, W = [   7.836   8.465 ], B =   117.9\n",
            "[  3750] cost =      5.266, W = [   7.795   8.448 ], B =   118.0\n",
            "[  4000] cost =      5.265, W = [   7.769   8.437 ], B =   118.0\n",
            "[  4250] cost =      5.265, W = [   7.752    8.43 ], B =   118.0\n",
            "[  4500] cost =      5.265, W = [   7.741   8.426 ], B =   118.0\n",
            "[  4750] cost =      5.265, W = [   7.733   8.422 ], B =   118.0\n",
            "[  5000] cost =      5.265, W = [   7.729    8.42 ], B =   118.0\n",
            "CPU times: user 28.4 s, sys: 270 ms, total: 28.7 s\n",
            "Wall time: 38 s\n"
          ]
        }
      ],
      "source": [
        "%%time\n",
        "# Parameter Set\n",
        "epochs = 5000\n",
        "learning_rate = 0.01\n",
        "optimizer = optimizers.SGD(learning_rate=learning_rate)\n",
        "\n",
        "training_idx = np.arange(0, epochs+1, 1)\n",
        "cost_graph = np.zeros(epochs+1)\n",
        "\n",
        "for cnt in range(0, epochs+1):\n",
        "  cost_graph[cnt] = Cost()\n",
        "  if cnt % (epochs//20) == 0:\n",
        "      print(\"[{:>6}] cost = {:>10.4}, W = [ {:>7.4} {:>7.4} ], B = {:>7.4}\".format(cnt, cost_graph[cnt], W[0,0], W[1,0], B.numpy()))\n",
        "\n",
        "  optimizer.minimize(Cost,[W, B])"
      ]
    },
    {
      "cell_type": "markdown",
      "metadata": {
        "id": "VmGa4Bq-ZKMq"
      },
      "source": [
        ">### Hypothesis Test"
      ]
    },
    {
      "cell_type": "code",
      "execution_count": null,
      "metadata": {
        "colab": {
          "base_uri": "https://localhost:8080/"
        },
        "id": "X_UwcVCzK4KD",
        "outputId": "c073f812-748f-446e-c828-43a318a0ff64"
      },
      "outputs": [
        {
          "output_type": "stream",
          "name": "stdout",
          "text": [
            "[ Hypothesis test ]\n",
            "Age : 25.0, BMI :    22.0 => BP :   118.0 [label => [118.]]\n",
            "Age : 25.0, BMI :    26.0 => BP :   122.2 [label => [125.]]\n",
            "Age : 25.0, BMI :    30.0 => BP :   126.4 [label => [130.]]\n",
            "Age : 35.0, BMI :    22.0 => BP :   119.6 [label => [118.]]\n",
            "Age : 35.0, BMI :    26.0 => BP :   123.8 [label => [126.]]\n",
            "Age : 35.0, BMI :    30.0 => BP :   128.0 [label => [123.]]\n",
            "Age : 45.0, BMI :    22.0 => BP :   121.2 [label => [120.]]\n",
            "Age : 45.0, BMI :    26.0 => BP :   125.4 [label => [124.]]\n",
            "Age : 45.0, BMI :    30.0 => BP :   129.7 [label => [130.]]\n",
            "Age : 55.0, BMI :    22.0 => BP :   122.8 [label => [122.]]\n",
            "Age : 55.0, BMI :    26.0 => BP :   127.1 [label => [125.]]\n",
            "Age : 55.0, BMI :    30.0 => BP :   131.3 [label => [130.]]\n",
            "Age : 65.0, BMI :    22.0 => BP :   124.5 [label => [127.]]\n",
            "Age : 65.0, BMI :    26.0 => BP :   128.7 [label => [130.]]\n",
            "Age : 65.0, BMI :    30.0 => BP :   132.9 [label => [130.]]\n",
            "Age : 73.0, BMI :    22.0 => BP :   125.7 [label => [125.5]]\n",
            "Age : 73.0, BMI :    26.0 => BP :   130.0 [label => [130.]]\n",
            "Age : 73.0, BMI :    30.0 => BP :   134.2 [label => [138.]]\n"
          ]
        }
      ],
      "source": [
        "print(\"[ Hypothesis test ]\")\n",
        "\n",
        "H_x = Hypothesis(x_input)\n",
        "for x,h,l in zip(x_input_org, H_x, labels):\n",
        "  print(\"Age : {}, BMI : {:>7.4} => BP : {:>7.4} [label => {}]\".format(x[0],x[1],h[0],l))"
      ]
    },
    {
      "cell_type": "code",
      "execution_count": null,
      "metadata": {
        "id": "re4eVqlRu7bI"
      },
      "outputs": [],
      "source": [
        "# predict\n",
        "def predict(x):\n",
        "  return Hypothesis((x-x_min)/(x_max-x_min))"
      ]
    },
    {
      "cell_type": "code",
      "execution_count": null,
      "metadata": {
        "colab": {
          "base_uri": "https://localhost:8080/"
        },
        "id": "TSn6UtM3u7bI",
        "outputId": "2f3a441c-96e2-43a8-8245-ccf08589065d"
      },
      "outputs": [
        {
          "output_type": "stream",
          "name": "stdout",
          "text": [
            "\n",
            "[ Prediction by specific data ]\n",
            "Age : 50.0, BMI : 25.0 = > BP :   125.2\n"
          ]
        }
      ],
      "source": [
        "# predict\n",
        "x_test = tf.constant([[50.0, 25.0]], dtype= tf.float32)\n",
        "H_x = predict(x_test)\n",
        "print(\"\\n[ Prediction by specific data ]\")\n",
        "print(\"Age : {}, BMI : {} = > BP : {:>7.4}\".format(x_test[0,0],x_test[0,1],H_x[0,0]))"
      ]
    },
    {
      "cell_type": "markdown",
      "metadata": {
        "id": "eLvOaTCyHGhb"
      },
      "source": [
        ">### Plotting"
      ]
    },
    {
      "cell_type": "code",
      "execution_count": null,
      "metadata": {
        "colab": {
          "base_uri": "https://localhost:8080/",
          "height": 472
        },
        "id": "4ZEI94f8HHDu",
        "outputId": "25d4f68a-d2bd-49e5-f29c-f9cd2c61aa76"
      },
      "outputs": [
        {
          "output_type": "display_data",
          "data": {
            "text/plain": [
              "<Figure size 640x480 with 1 Axes>"
            ],
            "image/png": "[encoded data removed]"
          },
          "metadata": {}
        }
      ],
      "source": [
        "# Training 상황에 대한 그래프 출력\n",
        "# Training 회수 별 Cost 값\n",
        "plt.title(\"'Cost / Epochs' Graph\")\n",
        "plt.xlabel(\"Epochs\")\n",
        "plt.ylabel(\"Cost\")\n",
        "plt.plot(training_idx, cost_graph)\n",
        "plt.xlim(0, epochs)\n",
        "plt.grid(True)\n",
        "plt.semilogy()\n",
        "plt.show()"
      ]
    }
  ],
  "metadata": {
    "colab": {
      "provenance": [],
      "include_colab_link": true
    },
    "kernelspec": {
      "display_name": "Python 3",
      "name": "python3"
    },
    "language_info": {
      "codemirror_mode": {
        "name": "ipython",
        "version": 3
      },
      "file_extension": ".py",
      "mimetype": "text/x-python",
      "name": "python",
      "nbconvert_exporter": "python",
      "pygments_lexer": "ipython3",
      "version": "3.10.13"
    }
  },
  "nbformat": 4,
  "nbformat_minor": 0
}