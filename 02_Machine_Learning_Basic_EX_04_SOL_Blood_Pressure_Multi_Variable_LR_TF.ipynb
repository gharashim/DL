{
  "cells": [
    {
      "cell_type": "markdown",
      "metadata": {
        "id": "view-in-github",
        "colab_type": "text"
      },
      "source": [
        "<a href=\"https://colab.research.google.com/github/gharashim/DL/blob/main/02_Machine_Learning_Basic_EX_04_SOL_Blood_Pressure_Multi_Variable_LR_TF.ipynb\" target=\"_parent\"><img src=\"https://colab.research.google.com/assets/colab-badge.svg\" alt=\"Open In Colab\"/></a>"
      ]
    },
    {
      "cell_type": "markdown",
      "metadata": {
        "id": "YFgG5LWSDCGQ"
      },
      "source": [
        "# Linear Regression"
      ]
    },
    {
      "cell_type": "markdown",
      "metadata": {
        "id": "s5GcbJcLDEOJ"
      },
      "source": [
        ">### [예제 4: SOL] Multi Variable Linear Regression (TF)"
      ]
    },
    {
      "cell_type": "markdown",
      "metadata": {
        "id": "CmXWmww_DN1h"
      },
      "source": [
        ">### Load modules"
      ]
    },
    {
      "cell_type": "code",
      "execution_count": null,
      "metadata": {
        "colab": {
          "base_uri": "https://localhost:8080/"
        },
        "id": "NQ6ONRPKCy-h",
        "outputId": "82e61a91-61c4-4f00-bfcd-f69181a1949f"
      },
      "outputs": [
        {
          "name": "stdout",
          "output_type": "stream",
          "text": [
            "NumPy Version :1.26.4\n",
            "TensorFlow Version :2.15.0\n",
            "Matplotlib Version :3.7.1\n"
          ]
        }
      ],
      "source": [
        "import numpy as np\n",
        "import tensorflow as tf\n",
        "import matplotlib.pyplot as plt\n",
        "\n",
        "if tf.__version__ >= '2.17.0':\n",
        "    from tf_keras import optimizers\n",
        "else:\n",
        "    from tensorflow.keras import optimizers\n",
        "\n",
        "print(\"NumPy Version :{}\".format(np.__version__))\n",
        "print(\"TensorFlow Version :{}\".format(tf.__version__))\n",
        "print(\"Matplotlib Version :{}\".format(plt.matplotlib.__version__))"
      ]
    },
    {
      "cell_type": "markdown",
      "metadata": {
        "id": "-dg-R6_6Dfo_"
      },
      "source": [
        "> ### Input and Label"
      ]
    },
    {
      "cell_type": "code",
      "execution_count": null,
      "metadata": {
        "id": "MK9xIhEWDdiq"
      },
      "outputs": [],
      "source": [
        "#Input(AGE) and Labels(BP)\n",
        "x_input = tf.constant([[25,22],[25,26],[25,30],[35,22],[35,26],[35,30],[45,22],[45,26],[45,30],[55,22],[55,26],[55,30],[65,22],[65,26],[65,30],[73,22],[73,26],[73,30]], dtype= tf.float32)\n",
        "labels = tf.constant([[118],[125],[130],[118],[126],[123],[120],[124],[130],[122],[125],[130],[127],[130],[130],[125.5],[130],[138]], dtype= tf.float32)\n",
        "\n",
        "# W, B 선언\n",
        "W = tf.Variable(tf.random.normal((2, 1)), dtype=tf.float32)\n",
        "B = tf.Variable(tf.random.normal(()), dtype=tf.float32)"
      ]
    },
    {
      "cell_type": "markdown",
      "metadata": {
        "id": "r3ltXxjyD7l2"
      },
      "source": [
        ">### Hypothesis : Linear Equation (Multi-Variable)\n",
        ">### $X = \\begin{bmatrix} x_{11} & x_{12} \\\\ x_{21} & x_{22} \\\\ x_{31} & x_{32} \\\\ \\end{bmatrix}$\n",
        ">### $W = \\begin{bmatrix} w_{1} \\\\ w_{2} \\\\\\end{bmatrix}$\n",
        ">### $H(x) = XW + b$"
      ]
    },
    {
      "cell_type": "code",
      "execution_count": null,
      "metadata": {
        "id": "GOajfgPgD2qE"
      },
      "outputs": [],
      "source": [
        "# hypothesis\n",
        "def Hypothesis(x):\n",
        "  return tf.matmul(x, W) + B"
      ]
    },
    {
      "cell_type": "markdown",
      "metadata": {
        "id": "2DL7vAuaEQRN"
      },
      "source": [
        ">### Cost Function : Mean Squared Error (MSE)\n",
        ">### $\\sum_{i=1}^{n}(h(x_{i})-y_{i})^{2}$"
      ]
    },
    {
      "cell_type": "code",
      "execution_count": null,
      "metadata": {
        "id": "NHObKoBzEHyR"
      },
      "outputs": [],
      "source": [
        "def Cost():\n",
        "  return tf.reduce_mean(tf.square(Hypothesis(x_input)-labels))"
      ]
    },
    {
      "cell_type": "markdown",
      "metadata": {
        "id": "s3_SErpOG1rk"
      },
      "source": [
        "### 학습 (Training)"
      ]
    },
    {
      "cell_type": "code",
      "execution_count": null,
      "metadata": {
        "colab": {
          "background_save": true,
          "base_uri": "https://localhost:8080/"
        },
        "id": "68vMDyJoFcD2",
        "outputId": "cd6f052e-2c00-4b37-fa05-ce5b271ead0b"
      },
      "outputs": [
        {
          "name": "stdout",
          "output_type": "stream",
          "text": [
            "[     0] cost =  3.071e+04, W = [  -1.261  0.5038 ], B =   2.098\n",
            "[ 25000] cost =      86.85, W = [  0.3507   3.624 ], B =   13.51\n",
            "[ 50000] cost =      67.39, W = [  0.3266   3.296 ], B =   23.36\n",
            "[ 75000] cost =      52.58, W = [  0.3054    3.01 ], B =   31.95\n",
            "[100000] cost =      41.29, W = [   0.287   2.761 ], B =   39.45\n",
            "[125000] cost =       32.7, W = [   0.271   2.543 ], B =    46.0\n",
            "[150000] cost =      26.16, W = [  0.2569   2.353 ], B =   51.71\n",
            "[175000] cost =      21.18, W = [  0.2447   2.188 ], B =    56.7\n",
            "[200000] cost =      17.38, W = [   0.234   2.043 ], B =   61.05\n",
            "[225000] cost =      14.49, W = [  0.2247   1.917 ], B =   64.85\n",
            "[250000] cost =      12.29, W = [  0.2166   1.807 ], B =   68.15\n",
            "[275000] cost =      10.62, W = [  0.2095   1.711 ], B =   71.04\n",
            "[300000] cost =      9.339, W = [  0.2033   1.627 ], B =   73.57\n",
            "[325000] cost =       8.37, W = [  0.1979   1.554 ], B =   75.76\n",
            "[350000] cost =      7.627, W = [  0.1931    1.49 ], B =   77.69\n",
            "[375000] cost =      7.067, W = [   0.189   1.434 ], B =   79.36\n",
            "[400000] cost =      6.639, W = [  0.1855   1.386 ], B =   80.82\n",
            "[425000] cost =      6.311, W = [  0.1823   1.343 ], B =   82.09\n",
            "[450000] cost =      6.058, W = [  0.1796   1.306 ], B =   83.22\n",
            "[475000] cost =      5.872, W = [  0.1772   1.274 ], B =   84.18\n",
            "[500000] cost =       5.73, W = [  0.1752   1.246 ], B =   85.02\n",
            "CPU times: user 31min 40s, sys: 2.21 s, total: 31min 42s\n",
            "Wall time: 31min 37s\n"
          ]
        }
      ],
      "source": [
        "%%time\n",
        "# Parameter Set\n",
        "epochs = 500000\n",
        "learning_rate = 0.0002\n",
        "optimizer = optimizers.SGD(learning_rate=learning_rate)\n",
        "\n",
        "training_idx = np.arange(0, epochs+1, 1)\n",
        "cost_graph = np.zeros(epochs+1)\n",
        "\n",
        "for cnt in range(0, epochs+1):\n",
        "  cost_graph[cnt] = Cost()\n",
        "  if cnt % (epochs//20) == 0:\n",
        "    print(\"[{:>6}] cost = {:>10.4}, W = [ {:>7.4} {:>7.4} ], B = {:>7.4}\".format(cnt, cost_graph[cnt], W[0,0], W[1,0], B.numpy()))\n",
        "\n",
        "  optimizer.minimize(Cost,[W, B])"
      ]
    },
    {
      "cell_type": "markdown",
      "metadata": {
        "id": "VmGa4Bq-ZKMq"
      },
      "source": [
        ">### Hypothesis Test"
      ]
    },
    {
      "cell_type": "code",
      "execution_count": null,
      "metadata": {
        "colab": {
          "background_save": true
        },
        "id": "X_UwcVCzK4KD",
        "outputId": "4d0f8046-c288-4348-9be7-aaa670dcd6ac"
      },
      "outputs": [
        {
          "name": "stdout",
          "output_type": "stream",
          "text": [
            "[ Hypothesis test ]\n",
            "Age : 25.0, BMI :    22.0 => BP :   116.8 [label => [118.]]\n",
            "Age : 25.0, BMI :    26.0 => BP :   121.8 [label => [125.]]\n",
            "Age : 25.0, BMI :    30.0 => BP :   126.8 [label => [130.]]\n",
            "Age : 35.0, BMI :    22.0 => BP :   118.6 [label => [118.]]\n",
            "Age : 35.0, BMI :    26.0 => BP :   123.5 [label => [126.]]\n",
            "Age : 35.0, BMI :    30.0 => BP :   128.5 [label => [123.]]\n",
            "Age : 45.0, BMI :    22.0 => BP :   120.3 [label => [120.]]\n",
            "Age : 45.0, BMI :    26.0 => BP :   125.3 [label => [124.]]\n",
            "Age : 45.0, BMI :    30.0 => BP :   130.3 [label => [130.]]\n",
            "Age : 55.0, BMI :    22.0 => BP :   122.1 [label => [122.]]\n",
            "Age : 55.0, BMI :    26.0 => BP :   127.0 [label => [125.]]\n",
            "Age : 55.0, BMI :    30.0 => BP :   132.0 [label => [130.]]\n",
            "Age : 65.0, BMI :    22.0 => BP :   123.8 [label => [127.]]\n",
            "Age : 65.0, BMI :    26.0 => BP :   128.8 [label => [130.]]\n",
            "Age : 65.0, BMI :    30.0 => BP :   133.8 [label => [130.]]\n",
            "Age : 73.0, BMI :    22.0 => BP :   125.2 [label => [125.5]]\n",
            "Age : 73.0, BMI :    26.0 => BP :   130.2 [label => [130.]]\n",
            "Age : 73.0, BMI :    30.0 => BP :   135.2 [label => [138.]]\n"
          ]
        }
      ],
      "source": [
        "print(\"[ Hypothesis test ]\")\n",
        "\n",
        "H_x = Hypothesis(x_input)\n",
        "for x,h,l in zip(x_input, H_x, labels):\n",
        "  print(\"Age : {}, BMI : {:>7.4} => BP : {:>7.4} [label => {}]\".format(x[0],x[1],h[0],l))"
      ]
    },
    {
      "cell_type": "code",
      "execution_count": null,
      "metadata": {
        "colab": {
          "background_save": true
        },
        "id": "nx_ucPjtu413",
        "outputId": "34b5dd33-9112-4ac1-d9cc-d398cad1b85c"
      },
      "outputs": [
        {
          "name": "stdout",
          "output_type": "stream",
          "text": [
            "\n",
            "[ Prediction by specific data ]\n",
            "Age : 50.0, BMI : 25.0 => BP :   124.9\n"
          ]
        }
      ],
      "source": [
        "# predict\n",
        "x_test = tf.constant([[50.0, 25.0]], dtype= tf.float32)\n",
        "H_x = Hypothesis(x_test)\n",
        "print(\"\\n[ Prediction by specific data ]\")\n",
        "print(\"Age : {}, BMI : {} => BP : {:>7.4}\".format(x_test[0,0],x_test[0,1],H_x[0,0]))"
      ]
    },
    {
      "cell_type": "markdown",
      "metadata": {
        "id": "eLvOaTCyHGhb"
      },
      "source": [
        ">### Plotting"
      ]
    },
    {
      "cell_type": "code",
      "execution_count": null,
      "metadata": {
        "colab": {
          "background_save": true
        },
        "id": "4ZEI94f8HHDu",
        "outputId": "6bb689b5-eaf1-40f9-b6f2-a92539bda5b3"
      },
      "outputs": [
        {
          "data": {
            "image/png": "[encoded data removed]",
            "text/plain": [
              "<Figure size 640x480 with 1 Axes>"
            ]
          },
          "metadata": {},
          "output_type": "display_data"
        }
      ],
      "source": [
        "# Training 상황에 대한 그래프 출력\n",
        "# Training 회수 별 Cost 값\n",
        "plt.title(\"'Cost / Epochs' Graph\")\n",
        "plt.xlabel(\"Epochs\")\n",
        "plt.ylabel(\"Cost\")\n",
        "plt.plot(training_idx, cost_graph)\n",
        "plt.xlim(0, epochs)\n",
        "plt.grid(True)\n",
        "plt.semilogy()\n",
        "plt.show()"
      ]
    }
  ],
  "metadata": {
    "accelerator": "TPU",
    "colab": {
      "gpuType": "V28",
      "provenance": [],
      "include_colab_link": true
    },
    "kernelspec": {
      "display_name": "Python 3 (ipykernel)",
      "language": "python",
      "name": "python3"
    },
    "language_info": {
      "codemirror_mode": {
        "name": "ipython",
        "version": 3
      },
      "file_extension": ".py",
      "mimetype": "text/x-python",
      "name": "python",
      "nbconvert_exporter": "python",
      "pygments_lexer": "ipython3",
      "version": "3.10.13"
    }
  },
  "nbformat": 4,
  "nbformat_minor": 0
}