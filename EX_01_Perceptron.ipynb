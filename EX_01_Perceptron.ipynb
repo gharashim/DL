{
  "cells": [
    {
      "cell_type": "markdown",
      "metadata": {
        "id": "view-in-github",
        "colab_type": "text"
      },
      "source": [
        "<a href=\"https://colab.research.google.com/github/gharashim/DL/blob/main/EX_01_Perceptron.ipynb\" target=\"_parent\"><img src=\"https://colab.research.google.com/assets/colab-badge.svg\" alt=\"Open In Colab\"/></a>"
      ]
    },
    {
      "cell_type": "markdown",
      "metadata": {
        "id": "UAoMXYfT9Cxu"
      },
      "source": [
        "# Perceptron"
      ]
    },
    {
      "cell_type": "markdown",
      "metadata": {
        "id": "hkbUAf0vuJ6g"
      },
      "source": [
        "### [예제 1] Perceptron"
      ]
    },
    {
      "cell_type": "markdown",
      "metadata": {
        "id": "GERwLqAKt9zH"
      },
      "source": [
        "### Perceptron 수식 : $y = \\sigma(\\displaystyle\\sum_{i=1}^{3} w_{i}x_{i} + b)$"
      ]
    },
    {
      "cell_type": "markdown",
      "metadata": {
        "id": "mlGXXowZrBe0"
      },
      "source": [
        ">### Load modules\n",
        "\n"
      ]
    },
    {
      "cell_type": "code",
      "execution_count": null,
      "metadata": {
        "colab": {
          "base_uri": "https://localhost:8080/"
        },
        "id": "45fKARJCmvkA",
        "outputId": "a0d67658-5bb8-4293-b651-cbd1633e4e10"
      },
      "outputs": [
        {
          "name": "stdout",
          "output_type": "stream",
          "text": [
            "NumPy Version :1.19.5\n"
          ]
        }
      ],
      "source": [
        "import numpy as np\n",
        "\n",
        "print(\"NumPy Version :{}\".format(np.__version__))"
      ]
    },
    {
      "cell_type": "markdown",
      "metadata": {
        "id": "l7X53XY3r_7T"
      },
      "source": [
        "> ### Input, Weight, Bias\n",
        "\n"
      ]
    },
    {
      "cell_type": "code",
      "execution_count": null,
      "metadata": {
        "id": "ax1Gp-KSqnco"
      },
      "outputs": [],
      "source": [
        "# Input, Weight, Bias\n",
        "X = np.array([1,2,3])\n",
        "W = np.array([4,5,6])\n",
        "B = 10"
      ]
    },
    {
      "cell_type": "markdown",
      "metadata": {
        "id": "YNqOfOGBubMx"
      },
      "source": [
        ">### Perceptron 연산 : 연산자 '*' 이용"
      ]
    },
    {
      "cell_type": "code",
      "execution_count": null,
      "metadata": {
        "colab": {
          "base_uri": "https://localhost:8080/"
        },
        "id": "xo6jrR0Pq1ak",
        "outputId": "7b41d0bd-4833-44fc-b6b0-3a253823e577"
      },
      "outputs": [
        {
          "name": "stdout",
          "output_type": "stream",
          "text": [
            "mul = W * X : [ 4 10 18]\n",
            "s = 42\n",
            "y = 1.0\n"
          ]
        }
      ],
      "source": [
        "# Element-wise multiply\n",
        "mul = W * X\n",
        "print(\"mul = W * X : {}\".format(mul))\n",
        "\n",
        "# Summation array and Add bias\n",
        "s = np.sum(mul) + B\n",
        "\n",
        "# Matrix Multiplication\n",
        "# s = np.matmul(X, W) + B\n",
        "\n",
        "print(\"s = {}\".format(s))\n",
        "\n",
        "# Activation Function : Step Fuction\n",
        "y = np.float32(s > 10)\n",
        "print(\"y = {}\".format(y))"
      ]
    },
    {
      "cell_type": "markdown",
      "metadata": {
        "id": "fyAH2pMKzc-A"
      },
      "source": [
        ">### Perceptron 연산 : np.matmul() 이용\n",
        "> * s = np.matmul(X, W) + b\n",
        ">> $S=X\\cdot W + b= \\begin{bmatrix}x_{1}&x_{2}&x_{3}\\end{bmatrix}\\begin{bmatrix}w_{1}\\\\w_{2}\\\\w_{3}\\end{bmatrix} + b = x_{1}w_{1} + x_{2}w_{2} + x_{3}w_{3} + b $"
      ]
    }
  ],
  "metadata": {
    "colab": {
      "provenance": [],
      "include_colab_link": true
    },
    "kernelspec": {
      "display_name": "Python 3",
      "language": "python",
      "name": "python3"
    },
    "language_info": {
      "codemirror_mode": {
        "name": "ipython",
        "version": 3
      },
      "file_extension": ".py",
      "mimetype": "text/x-python",
      "name": "python",
      "nbconvert_exporter": "python",
      "pygments_lexer": "ipython3",
      "version": "3.7.10"
    }
  },
  "nbformat": 4,
  "nbformat_minor": 0
}