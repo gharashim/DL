{
  "cells": [
    {
      "cell_type": "markdown",
      "metadata": {
        "id": "view-in-github",
        "colab_type": "text"
      },
      "source": [
        "<a href=\"https://colab.research.google.com/github/gharashim/DL/blob/main/02_Machine_Learning_Basic_EX_02_Blood_Pressure_Linear_Regression.ipynb\" target=\"_parent\"><img src=\"https://colab.research.google.com/assets/colab-badge.svg\" alt=\"Open In Colab\"/></a>"
      ]
    },
    {
      "cell_type": "markdown",
      "metadata": {
        "id": "FBMFIOU_oWOg"
      },
      "source": [
        "# Linear Regression"
      ]
    },
    {
      "cell_type": "markdown",
      "metadata": {
        "id": "w690xaWJoaQU"
      },
      "source": [
        ">### [예제 2] Gradient Descent of Linear Regression"
      ]
    },
    {
      "cell_type": "markdown",
      "metadata": {
        "id": "zuxRw2vAo5Fi"
      },
      "source": [
        ">### Load modules"
      ]
    },
    {
      "cell_type": "code",
      "execution_count": null,
      "metadata": {
        "colab": {
          "base_uri": "https://localhost:8080/"
        },
        "id": "LNPBqbLgGfUs",
        "outputId": "f2bb61c7-cddd-438f-c255-10ae58fdea17"
      },
      "outputs": [
        {
          "output_type": "stream",
          "name": "stdout",
          "text": [
            "NumPy Version :1.25.2\n"
          ]
        }
      ],
      "source": [
        "import numpy as np\n",
        "\n",
        "print(\"NumPy Version :{}\".format(np.__version__))"
      ]
    },
    {
      "cell_type": "markdown",
      "metadata": {
        "id": "OctX9GUDJ6Z3"
      },
      "source": [
        "> ### Input and Label"
      ]
    },
    {
      "cell_type": "code",
      "execution_count": null,
      "metadata": {
        "id": "YNt07NUKKx6Y"
      },
      "outputs": [],
      "source": [
        "# Input(AGE) and Labels(BP)\n",
        "x_input = np.array([25,25,25,35,35,35,45,45,45,55,55,55,65,65,65,73,73,73], dtype= np.float32)\n",
        "labels = np.array([118,125,130,118,126,123,120,124,130,122,125,130,127,130,130,125.5,130,138], dtype= np.float32)\n",
        "\n",
        "# Weights\n",
        "W = np.random.normal()\n",
        "B = np.random.normal()"
      ]
    },
    {
      "cell_type": "markdown",
      "metadata": {
        "id": "VaUmHQgGA8-d"
      },
      "source": [
        ">### Hypothesis : Linear Equation\n",
        ">### $h(x) = wx + b$"
      ]
    },
    {
      "cell_type": "code",
      "execution_count": null,
      "metadata": {
        "id": "td6Qr3VuNFug"
      },
      "outputs": [],
      "source": [
        "# Hypothesis : Linear Function\n",
        "def Hypothesis(x):\n",
        "    return W*x + B"
      ]
    },
    {
      "cell_type": "markdown",
      "metadata": {
        "id": "BFpxFy_0pMRz"
      },
      "source": [
        ">### Cost Function : Mean Squared Error (MSE)\n",
        ">### $\\sum_{i=1}^{n}(h(x_{i})-y_{i})^{2}$"
      ]
    },
    {
      "cell_type": "code",
      "execution_count": null,
      "metadata": {
        "id": "Szvt5sniBQiJ"
      },
      "outputs": [],
      "source": [
        "# Cost : Mean Squared Error\n",
        "def Cost():\n",
        "    return np.mean((Hypothesis(x_input) - labels)**2)"
      ]
    },
    {
      "cell_type": "markdown",
      "metadata": {
        "id": "Uxyl6ifpBJfZ"
      },
      "source": [
        ">### Gradient\n",
        ">### $\\frac{\\partial}{\\partial w}cost(w, b) = \\frac{1}{m}  \\sum_{i=1}^{m}(x_{i}(x_{i}w+(b-y_{i})))$\n",
        ">### $\\frac{\\partial}{\\partial b}cost(w, b) = \\frac{1}{m}  \\sum_{i=1}^{m}(x_{i}w - y_{i} + b)$\n",
        "\n"
      ]
    },
    {
      "cell_type": "code",
      "execution_count": null,
      "metadata": {
        "id": "urqcydR4shiM"
      },
      "outputs": [],
      "source": [
        "# Gradient\n",
        "def Gradient(x, y):\n",
        "    return np.mean(x*(x*W+(B-y))), np.mean((W*x-y+B))"
      ]
    },
    {
      "cell_type": "markdown",
      "metadata": {
        "id": "-qwbFA4-wQFE"
      },
      "source": [
        ">### Training\n",
        ">### $\\mu$ : Learning rate\n",
        ">### $w = w - \\mu\\frac{\\partial}{\\partial w}cost(w, b)$\n",
        ">### $b = b - \\mu\\frac{\\partial}{\\partial b}cost(w, b)$"
      ]
    },
    {
      "cell_type": "code",
      "execution_count": null,
      "metadata": {
        "colab": {
          "base_uri": "https://localhost:8080/"
        },
        "id": "tzaB4hcauxx-",
        "outputId": "e73cd797-3d6f-4778-e922-7c3d48b1518c"
      },
      "outputs": [
        {
          "output_type": "stream",
          "name": "stdout",
          "text": [
            "[    0] cost =  1.071e+04, W =  0.4581, B =  0.1389\n",
            "[    5] cost =  1.548e+18, W = 2.375e+07, B = 4.301e+05\n",
            "[   10] cost =  2.576e+32, W = -3.064e+14, B = -5.55e+12\n",
            "[   15] cost =        inf, W = 3.954e+21, B = 7.161e+19\n",
            "[   20] cost =        inf, W = -5.101e+28, B = -9.239e+26\n",
            "[   25] cost =        inf, W =     inf, B = 1.192e+34\n",
            "[   30] cost =        nan, W =     nan, B =     nan\n",
            "[   35] cost =        nan, W =     nan, B =     nan\n",
            "[   40] cost =        nan, W =     nan, B =     nan\n",
            "[   45] cost =        nan, W =     nan, B =     nan\n",
            "[   50] cost =        nan, W =     nan, B =     nan\n",
            "[   55] cost =        nan, W =     nan, B =     nan\n",
            "[   60] cost =        nan, W =     nan, B =     nan\n",
            "[   65] cost =        nan, W =     nan, B =     nan\n",
            "[   70] cost =        nan, W =     nan, B =     nan\n",
            "[   75] cost =        nan, W =     nan, B =     nan\n",
            "[   80] cost =        nan, W =     nan, B =     nan\n",
            "[   85] cost =        nan, W =     nan, B =     nan\n",
            "[   90] cost =        nan, W =     nan, B =     nan\n",
            "[   95] cost =        nan, W =     nan, B =     nan\n",
            "[  100] cost =        nan, W =     nan, B =     nan\n",
            "CPU times: user 14.1 ms, sys: 784 µs, total: 14.8 ms\n",
            "Wall time: 20.7 ms\n"
          ]
        },
        {
          "output_type": "stream",
          "name": "stderr",
          "text": [
            "<ipython-input-4-9db583b7d062>:3: RuntimeWarning: overflow encountered in square\n",
            "  return np.mean((Hypothesis(x_input) - labels)**2)\n",
            "/usr/local/lib/python3.10/dist-packages/numpy/core/_methods.py:118: RuntimeWarning: overflow encountered in reduce\n",
            "  ret = umr_sum(arr, axis, dtype, out, keepdims, where=where)\n",
            "<timed exec>:13: RuntimeWarning: invalid value encountered in scalar subtract\n"
          ]
        }
      ],
      "source": [
        "%%time\n",
        "# Parameter Set\n",
        "epochs = 100\n",
        "learning_rate = 0.01\n",
        "# epochs = 200000          # learning_rate 값 변경에 따라 조정해야 할 수 있음\n",
        "# learning_rate = 0.0005  # 값을 줄여가면서 실험 0.005, 0.001, 0.0005, 0.0003 ..\n",
        "\n",
        "# 학습 (Training)\n",
        "for cnt in range(0, epochs+1):\n",
        "    if cnt % (epochs//20) == 0:\n",
        "      print(\"[{:>5}] cost = {:>10.4}, W = {:>7.4}, B = {:>7.4}\".format(cnt, Cost(), W, B))\n",
        "\n",
        "    grad_w, grad_b = Gradient(x_input, labels)\n",
        "    W -= learning_rate * grad_w\n",
        "    B -= learning_rate * grad_b"
      ]
    },
    {
      "cell_type": "code",
      "execution_count": null,
      "metadata": {
        "colab": {
          "base_uri": "https://localhost:8080/"
        },
        "id": "T0Ze-s5i6p55",
        "outputId": "67b14f50-93a3-4500-ceab-b62dbed30135"
      },
      "outputs": [
        {
          "output_type": "stream",
          "name": "stdout",
          "text": [
            "50.0 Years :     nanmmHg\n"
          ]
        }
      ],
      "source": [
        "# Predict\n",
        "def Predict(x):\n",
        "    return Hypothesis(x)\n",
        "\n",
        "age = 50.0\n",
        "print(\"{} Years : {:>7.4}mmHg\".format(age, Predict(age)))"
      ]
    }
  ],
  "metadata": {
    "colab": {
      "provenance": [],
      "include_colab_link": true
    },
    "kernelspec": {
      "display_name": "Python 3",
      "language": "python",
      "name": "python3"
    },
    "language_info": {
      "codemirror_mode": {
        "name": "ipython",
        "version": 3
      },
      "file_extension": ".py",
      "mimetype": "text/x-python",
      "name": "python",
      "nbconvert_exporter": "python",
      "pygments_lexer": "ipython3",
      "version": "3.9.4"
    }
  },
  "nbformat": 4,
  "nbformat_minor": 0
}